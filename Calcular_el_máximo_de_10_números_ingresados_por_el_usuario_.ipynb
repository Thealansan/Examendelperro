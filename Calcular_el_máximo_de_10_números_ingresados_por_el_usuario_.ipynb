{
  "nbformat": 4,
  "nbformat_minor": 0,
  "metadata": {
    "colab": {
      "provenance": [],
      "authorship_tag": "ABX9TyOvQH0JpdsvB2+z96HvAI9j",
      "include_colab_link": true
    },
    "kernelspec": {
      "name": "python3",
      "display_name": "Python 3"
    },
    "language_info": {
      "name": "python"
    }
  },
  "cells": [
    {
      "cell_type": "markdown",
      "metadata": {
        "id": "view-in-github",
        "colab_type": "text"
      },
      "source": [
        "<a href=\"https://colab.research.google.com/github/Thealansan/Examendelperro/blob/main/Calcular_el_m%C3%A1ximo_de_10_n%C3%BAmeros_ingresados_por_el_usuario_.ipynb\" target=\"_parent\"><img src=\"https://colab.research.google.com/assets/colab-badge.svg\" alt=\"Open In Colab\"/></a>"
      ]
    },
    {
      "cell_type": "code",
      "execution_count": 7,
      "metadata": {
        "colab": {
          "base_uri": "https://localhost:8080/"
        },
        "id": "DLOvBeqefade",
        "outputId": "6b73782b-d7dc-4b89-e35c-64ba101aaa2b"
      },
      "outputs": [
        {
          "output_type": "stream",
          "name": "stdout",
          "text": [
            "Ingrese el número 1: 3\n",
            "Ingrese el número 2: 4\n",
            "Ingrese el número 3: 6\n",
            "Ingrese el número 4: 32\n",
            "Ingrese el número 5: 87654\n",
            "Ingrese el número 6: 3456\n",
            "Ingrese el número 7: 098765\n",
            "Ingrese el número 8: 345\n",
            "Ingrese el número 9: 233\n",
            "Ingrese el número 10: 43\n",
            "El máximo de los números ingresados es: 98765.0\n"
          ]
        }
      ],
      "source": [
        "def calcular_maximo_de_10_numeros():\n",
        "    numeros = []\n",
        "    for i in range(10):\n",
        "        numero = float(input(f\"Ingrese el número {i + 1}: \"))\n",
        "        numeros.append(numero)\n",
        "\n",
        "    maximo = max(numeros)\n",
        "    print(f\"El máximo de los números ingresados es: {maximo}\")\n",
        "\n",
        "calcular_maximo_de_10_numeros()"
      ]
    }
  ]
}