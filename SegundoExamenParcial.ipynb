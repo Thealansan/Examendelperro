{
  "nbformat": 4,
  "nbformat_minor": 0,
  "metadata": {
    "colab": {
      "provenance": [],
      "authorship_tag": "ABX9TyPxWZ7Qsk+11GN8Ouse73pM",
      "include_colab_link": true
    },
    "kernelspec": {
      "name": "python3",
      "display_name": "Python 3"
    },
    "language_info": {
      "name": "python"
    }
  },
  "cells": [
    {
      "cell_type": "markdown",
      "metadata": {
        "id": "view-in-github",
        "colab_type": "text"
      },
      "source": [
        "<a href=\"https://colab.research.google.com/github/Thealansan/Examendelperro/blob/main/SegundoExamenParcial.ipynb\" target=\"_parent\"><img src=\"https://colab.research.google.com/assets/colab-badge.svg\" alt=\"Open In Colab\"/></a>"
      ]
    },
    {
      "cell_type": "code",
      "execution_count": 1,
      "metadata": {
        "colab": {
          "base_uri": "https://localhost:8080/"
        },
        "id": "c1SFAyYUidx8",
        "outputId": "a9548495-5232-4683-9197-d25a3cc88109"
      },
      "outputs": [
        {
          "output_type": "stream",
          "name": "stdout",
          "text": [
            "Ingrese el número 1: 23\n",
            "Ingrese el número 2: 54\n",
            "Ingrese el número 3: 12\n",
            "Ingrese el número 4: 94\n",
            "Ingrese el número 5: 32\n",
            "Ingrese el número 6: 43\n",
            "Ingrese el número 7: 65\n",
            "Ingrese el número 8: 12\n",
            "Ingrese el número 9: 54\n",
            "Ingrese el número 10: 65\n",
            "El máximo de los números ingresados es: 94.0\n",
            "Parte 5: Ingrese un número para generar la serie de Fibonacci hasta ese punto: 94\n",
            "0\n",
            "1\n",
            "1\n",
            "2\n",
            "3\n",
            "5\n",
            "8\n",
            "13\n",
            "21\n",
            "34\n",
            "55\n",
            "89\n",
            "Parte 6: Ingrese un número para mostrar su tabla de multiplicar: 87\n",
            "87 x 1 = 87\n",
            "87 x 2 = 174\n",
            "87 x 3 = 261\n",
            "87 x 4 = 348\n",
            "87 x 5 = 435\n",
            "87 x 6 = 522\n",
            "87 x 7 = 609\n",
            "87 x 8 = 696\n",
            "87 x 9 = 783\n",
            "87 x 10 = 870\n",
            "Parte 7: Ingrese un número para calcular su factorial si no es primo: 1\n",
            "El factorial de 1 es 1\n"
          ]
        }
      ],
      "source": [
        "# Parte 1: Calcular el máximo de 10 números ingresados por el usuario\n",
        "def calcular_maximo_de_10_numeros():\n",
        "    numeros = []\n",
        "    for i in range(10):\n",
        "        numero = float(input(f\"Ingrese el número {i + 1}: \"))\n",
        "        numeros.append(numero)\n",
        "\n",
        "    maximo = max(numeros)\n",
        "    print(f\"El máximo de los números ingresados es: {maximo}\")\n",
        "\n",
        "# Parte 2: Mostrar la serie de Fibonacci desde 1 hasta el número que ingrese el usuario\n",
        "def serie_fibonacci_hasta_n(n):\n",
        "    a, b = 0, 1\n",
        "    while a <= n:\n",
        "        print(a)\n",
        "        a, b = b, a + b\n",
        "\n",
        "# Parte 3: Mostrar las tablas de multiplicar del número ingresado por el usuario\n",
        "def tablas_de_multiplicar(numero):\n",
        "    for i in range(1, 11):\n",
        "        producto = numero * i\n",
        "        print(f\"{numero} x {i} = {producto}\")\n",
        "\n",
        "# Parte 4: Calcular el factorial de un número no primo ingresado por el usuario\n",
        "def calcular_factorial_si_no_es_primo(numero):\n",
        "    def es_primo(n):\n",
        "        if n <= 1:\n",
        "            return False\n",
        "        if n <= 3:\n",
        "            return True\n",
        "        if n % 2 == 0 or n % 3 == 0:\n",
        "            return False\n",
        "        i = 5\n",
        "        while i * i <= n:\n",
        "            if n % i == 0 or n % (i + 2) == 0:\n",
        "                return False\n",
        "            i += 6\n",
        "        return True\n",
        "\n",
        "    if es_primo(numero):\n",
        "        print(f\"{numero} es un número primo, no se puede calcular su factorial.\")\n",
        "    else:\n",
        "        factorial = 1\n",
        "        for i in range(1, numero + 1):\n",
        "            factorial *= i\n",
        "        print(f\"El factorial de {numero} es {factorial}\")\n",
        "\n",
        "# Llamadas a las funciones\n",
        "calcular_maximo_de_10_numeros()\n",
        "\n",
        "n = int(input(\"Parte 5: Ingrese un número para generar la serie de Fibonacci hasta ese punto: \"))\n",
        "serie_fibonacci_hasta_n(n)\n",
        "\n",
        "numero = int(input(\"Parte 6: Ingrese un número para mostrar su tabla de multiplicar: \"))\n",
        "tablas_de_multiplicar(numero)\n",
        "\n",
        "numero = int(input(\"Parte 7: Ingrese un número para calcular su factorial si no es primo: \"))\n",
        "calcular_factorial_si_no_es_primo(numero)\n"
      ]
    }
  ]
}