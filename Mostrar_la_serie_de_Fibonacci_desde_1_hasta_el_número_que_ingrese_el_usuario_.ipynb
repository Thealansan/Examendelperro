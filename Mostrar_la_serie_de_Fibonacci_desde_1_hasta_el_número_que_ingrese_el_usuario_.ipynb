{
  "nbformat": 4,
  "nbformat_minor": 0,
  "metadata": {
    "colab": {
      "provenance": [],
      "authorship_tag": "ABX9TyP8CCY0XIjRkM/tTMBF5cSy",
      "include_colab_link": true
    },
    "kernelspec": {
      "name": "python3",
      "display_name": "Python 3"
    },
    "language_info": {
      "name": "python"
    }
  },
  "cells": [
    {
      "cell_type": "markdown",
      "metadata": {
        "id": "view-in-github",
        "colab_type": "text"
      },
      "source": [
        "<a href=\"https://colab.research.google.com/github/Thealansan/Examendelperro/blob/main/Mostrar_la_serie_de_Fibonacci_desde_1_hasta_el_n%C3%BAmero_que_ingrese_el_usuario_.ipynb\" target=\"_parent\"><img src=\"https://colab.research.google.com/assets/colab-badge.svg\" alt=\"Open In Colab\"/></a>"
      ]
    },
    {
      "cell_type": "code",
      "execution_count": 1,
      "metadata": {
        "colab": {
          "base_uri": "https://localhost:8080/"
        },
        "id": "HhWU9nJ6hYYK",
        "outputId": "a7e47bb6-fc13-4406-f91d-e5f9bf43d5dc"
      },
      "outputs": [
        {
          "output_type": "stream",
          "name": "stdout",
          "text": [
            "Ingrese un número para generar la serie de Fibonacci hasta ese punto: 34\n",
            "0\n",
            "1\n",
            "1\n",
            "2\n",
            "3\n",
            "5\n",
            "8\n",
            "13\n",
            "21\n",
            "34\n"
          ]
        }
      ],
      "source": [
        "def serie_fibonacci_hasta_n(n):\n",
        "    a, b = 0, 1\n",
        "    while a <= n:\n",
        "        print(a)\n",
        "        a, b = b, a + b\n",
        "\n",
        "n = int(input(\"Ingrese un número para generar la serie de Fibonacci hasta ese punto: \"))\n",
        "serie_fibonacci_hasta_n(n)\n"
      ]
    }
  ]
}